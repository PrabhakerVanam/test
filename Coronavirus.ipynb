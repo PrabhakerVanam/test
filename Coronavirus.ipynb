{
 "cells": [
  {
   "cell_type": "code",
   "execution_count": 26,
   "metadata": {},
   "outputs": [],
   "source": [
    "import time\n",
    "from selenium import webdriver\n",
    "\n",
    "class Coronavirus():\n",
    "    \n",
    "    def __init__(self):\n",
    "        \n",
    "        #driver = webdriver.Chrome('D:\\DATASCIENCE\\chromedriver_win32\\chromedriver')\n",
    "        self.driver = webdriver.Chrome('D:\\DATASCIENCE\\chromedriver_win32\\chromedriver')"
   ]
  },
  {
   "cell_type": "code",
   "execution_count": 27,
   "metadata": {
    "scrolled": true
   },
   "outputs": [],
   "source": [
    "bot = Coronavirus()\n",
    "\n",
    "bot.driver.get('https://www.worldometers.info/coronavirus/')"
   ]
  },
  {
   "cell_type": "code",
   "execution_count": 56,
   "metadata": {},
   "outputs": [],
   "source": [
    "table_head = bot.driver.find_element_by_xpath('//*[@id=\"main_table_countries\"]/thead[1]')\n",
    "table = bot.driver.find_element_by_xpath('//*[@id=\"main_table_countries\"]/tbody[1]')"
   ]
  },
  {
   "cell_type": "code",
   "execution_count": 59,
   "metadata": {},
   "outputs": [
    {
     "name": "stdout",
     "output_type": "stream",
     "text": [
      "['Country,\\nOther', 'Total\\nCases', 'New\\nCases', 'Total\\nDeaths', 'New\\nDeaths', 'Total\\nRecovered', 'Active\\nCases', 'Serious,\\nCritical', 'Tot', 'Cases/\\n1M', 'pop']\n",
      "['China', '80,739', '+44', '3,120', '+23', '58,742', '18,877', '5,111', '56.1\\nItaly', '9,172', '+1,797', '463', '+97', '724', '7,985', '733', '151.7\\nS.', 'Korea', '7,478', '+165', '53', '+3', '166', '7,259', '36', '145.9\\nIran', '7,161', '+595', '237', '+43', '2,394', '4,530', '85.3\\nFrance', '1,209', '21', '+2', '12', '1,176', '45', '18.5\\nGermany', '1,176', '+136', '2', '+2', '18', '1,156', '9', '14.0\\nSpain', '1,073', '+399', '28', '+11', '32', '1,013', '11', '22.9\\nDiamond', 'Princess', '696', '7', '245', '444', '32\\nUSA', '617', '+76', '22', '15', '580', '8', '1.9\\nJapan', '530', '+28', '9', '+2', '101', '420', '33', '4.2\\nSwitzerland', '374', '+42', '2', '3', '369', '43.2\\nUK', '321', '+43', '4', '+1', '18', '299', '4.7\\nNetherlands', '321', '+56', '3', '318', '1', '18.7\\nSweden', '248', '+45', '1', '247', '24.6\\nBelgium', '239', '+39', '1', '238', '1', '20.6\\nNorway', '205', '+29', '1', '204', '37.8\\nSingapore', '160', '+10', '93', '67', '10', '27.3\\nAustria', '131', '+27', '2', '129', '1', '14.5\\nMalaysia', '117', '+18', '24', '93', '2', '3.6\\nHong', 'Kong', '115', '3', '59', '53', '6', '15.3\\nBahrain', '109', '+24', '22', '87', '64.1\\nAustralia', '93', '+10', '3', '22', '68', '1', '3.6\\nDenmark', '90', '+55', '1', '89', '15.5\\nGreece', '84', '+11', '84', '1', '8.1\\nCanada', '70', '+4', '8', '62', '1', '1.9\\nIraq', '65', '6', '1', '58', '1.6\\nKuwait', '65', '+1', '1', '64', '3', '15.2\\nIceland', '60', '+2', '1', '59\\nUAE', '59', '+14', '12', '47', '2', '6.0\\nEgypt', '55', '1', '1', '53', '0.5\\nSan', 'Marino', '51', '+14', '2', '+1', '49', '5\\nThailand', '50', '1', '33', '16', '1', '0.7\\nTaiwan', '45', '1', '15', '29', '1.9\\nIndia', '45', '+5', '4', '41\\nIsrael', '41', '+2', '4', '37', '1', '4.7\\nLebanon', '41', '+9', '1', '40', '3', '6.0\\nCzechia', '36', '+4', '36', '3.4\\nPortugal', '35', '+5', '35', '3.4\\nFinland', '33', '+8', '1', '32', '6.0\\nVietnam', '31', '+1', '16', '15', '0.3\\nBrazil', '25', '25', '1', '0.1\\nPalestine', '25', '+6', '25', '4.9\\nPhilippines', '24', '+14', '1', '2', '21', '1', '0.2\\nSlovenia', '23', '+7', '23', '11.1\\nIreland', '21', '21', '4.3\\nAlgeria', '20', '20', '0.5\\nIndonesia', '19', '+13', '19', '0.1\\nOman', '18', '+2', '9', '9', '3.5\\nQatar', '18', '+3', '18', '6.2\\nRussia', '17', '3', '14', '0.1\\nPoland', '17', '+6', '17', '2', '0.4\\nEcuador', '15', '+1', '15', '1', '0.9\\nGeorgia', '15', '+2', '15', '1', '3.8\\nRomania', '15', '5', '10', '0.8\\nSaudi', 'Arabia', '15', '+4', '1', '14', '0.4\\nArgentina', '12', '1', '11', '0.3\\nCroatia', '12', '12', '2.9\\nMacao', '10', '10', '0\\nEstonia', '10', '10', '7.5\\nChile', '10', '10', '0.5\\nAzerbaijan', '9', '9', '0.9\\nCosta', 'Rica', '9', '9', '1', '1.8\\nHungary', '9', '+2', '9', '0.9\\nPakistan', '8', '+1', '1', '7\\nSlovakia', '8', '+3', '8', '1.5\\nMexico', '7', '1', '6', '1', '0.1\\nPeru', '7', '7', '0.2\\nSouth', 'Africa', '7', '+4', '7', '0.1\\nBelarus', '6', '6', '0.6\\nLatvia', '6', '+3', '1', '5', '3.2\\nDominican', 'Republic', '5', '5', '0.5\\nLuxembourg', '5', '5\\nNew', 'Zealand', '5', '5', '1.0\\nTunisia', '5', '+3', '5', '0.4\\nFrench', 'Guiana', '5', '5\\nAfghanistan', '4', '4', '0.1\\nNorth', 'Macedonia', '4', '+1', '4', '1.9\\nSenegal', '4', '1', '3', '0.2\\nBosnia', 'and', 'Herzegovina', '4', '+1', '4', '1.2\\nBulgaria', '4', '4', '0.6\\nMaldives', '4', '4\\nBangladesh', '3', '3\\nColombia', '3', '+2', '3', '0.1\\nMalta', '3', '3\\nCambodia', '2', '1', '1', '0.1\\nMorocco', '2', '2', '1', '0.1\\nNigeria', '2', '+1', '2\\nAlbania', '2', '2', '0.7\\nCameroon', '2', '2', '0.1\\nCyprus', '2', '+2', '2', '1.7\\nFaeroe', 'Islands', '2', '2\\nMartinique', '2', '2\\nSaint', 'Martin', '2', '2\\nAndorra', '1', '1\\nArmenia', '1', '1', '0.3\\nJordan', '1', '1', '0.1\\nLithuania', '1', '1', '0.4\\nMonaco', '1', '1\\nNepal', '1', '1', '0\\nSri', 'Lanka', '1', '1', '0\\nUkraine', '1', '1\\nBhutan', '1', '1\\nBrunei', '1', '+1', '1\\nChannel', 'Islands', '1', '+1', '1\\nGibraltar', '1', '1', '0\\nVatican', 'City', '1', '1\\nLiechtenstein', '1', '1\\nMoldova', '1', '1', '0.2\\nParaguay', '1', '1', '0.1\\nSt.', 'Barth', '1', '1\\nSerbia', '1', '1', '0.1\\nTogo', '1', '1', '0.1']\n"
     ]
    }
   ],
   "source": [
    "print(table_head.text.split(\" \"))\n",
    "print(table.text.split(\" \"))"
   ]
  },
  {
   "cell_type": "code",
   "execution_count": 77,
   "metadata": {},
   "outputs": [],
   "source": [
    "def send_mail(table_head, table, to_address):\n",
    "    server = smtplib.SMTP('smtp.gmail.com', 587)\n",
    "    server.ehlo()\n",
    "    server.starttls()\n",
    "    server.ehlo()\n",
    "    server.login('prabhu.vanam@gmail.com', 'dtuwmgeajytiuvpf')\n",
    "    subject = 'Coronavirus stats in all countries today!'\n",
    "    body = 'head ' + \"\".join(table_head.text.split(\" \")) + '\\\n",
    "    \\n' + \"\".join(table.text.split(\" \"))  + '\\\n",
    "    \\nCheck the link: https://www.worldometers.info/coronavirus/'\n",
    "    msg = f\"Subject: {subject}\\n\\n{body}\"\n",
    "    server.sendmail(\n",
    "    'Coronavirus',\n",
    "    to_address,\n",
    "    msg\n",
    "    )\n",
    "    print('Hey Email has been sent!')\n",
    "    server.quit()"
   ]
  },
  {
   "cell_type": "code",
   "execution_count": 78,
   "metadata": {},
   "outputs": [
    {
     "name": "stdout",
     "output_type": "stream",
     "text": [
      "Hey Email has been sent!\n",
      "Hey Email has been sent!\n"
     ]
    }
   ],
   "source": [
    "import smtplib\n",
    "send_mail(table_head, table, 'pvrss.sharma@gmail.com')\n",
    "send_mail(table_head, table, 'namastehanna@gmail.com')"
   ]
  },
  {
   "cell_type": "code",
   "execution_count": 52,
   "metadata": {},
   "outputs": [],
   "source": [
    "country_element = table.find_element_by_xpath(\"//td[contains(text(), 'India')]\")"
   ]
  },
  {
   "cell_type": "code",
   "execution_count": 53,
   "metadata": {},
   "outputs": [],
   "source": [
    "row = country_element.find_element_by_xpath(\"./..\")"
   ]
  },
  {
   "cell_type": "code",
   "execution_count": 50,
   "metadata": {},
   "outputs": [
    {
     "name": "stdout",
     "output_type": "stream",
     "text": [
      "India 45 +5 4 41\n"
     ]
    }
   ],
   "source": [
    "print(row.text)"
   ]
  },
  {
   "cell_type": "code",
   "execution_count": 43,
   "metadata": {},
   "outputs": [
    {
     "ename": "IndexError",
     "evalue": "list index out of range",
     "output_type": "error",
     "traceback": [
      "\u001b[1;31m---------------------------------------------------------------------------\u001b[0m",
      "\u001b[1;31mIndexError\u001b[0m                                Traceback (most recent call last)",
      "\u001b[1;32m<ipython-input-43-d9fcd4fbb9ef>\u001b[0m in \u001b[0;36m<module>\u001b[1;34m\u001b[0m\n\u001b[0;32m      6\u001b[0m \u001b[0mactive_cases\u001b[0m \u001b[1;33m=\u001b[0m \u001b[0mdata\u001b[0m\u001b[1;33m[\u001b[0m\u001b[1;36m5\u001b[0m\u001b[1;33m]\u001b[0m\u001b[1;33m\u001b[0m\u001b[1;33m\u001b[0m\u001b[0m\n\u001b[0;32m      7\u001b[0m \u001b[0mtotal_recovered\u001b[0m \u001b[1;33m=\u001b[0m \u001b[0mdata\u001b[0m\u001b[1;33m[\u001b[0m\u001b[1;36m6\u001b[0m\u001b[1;33m]\u001b[0m\u001b[1;33m\u001b[0m\u001b[1;33m\u001b[0m\u001b[0m\n\u001b[1;32m----> 8\u001b[1;33m \u001b[0mserious_critical\u001b[0m \u001b[1;33m=\u001b[0m \u001b[0mdata\u001b[0m\u001b[1;33m[\u001b[0m\u001b[1;36m7\u001b[0m\u001b[1;33m]\u001b[0m\u001b[1;33m\u001b[0m\u001b[1;33m\u001b[0m\u001b[0m\n\u001b[0m",
      "\u001b[1;31mIndexError\u001b[0m: list index out of range"
     ]
    }
   ],
   "source": [
    "data = row.text.split(\" \")\n",
    "total_cases = data[1]\n",
    "new_cases = data[2]\n",
    "total_deaths = data[3]\n",
    "new_deaths = data[4]\n",
    "active_cases = data[5]\n",
    "total_recovered = data[6]\n",
    "serious_critical = data[7]"
   ]
  },
  {
   "cell_type": "code",
   "execution_count": null,
   "metadata": {},
   "outputs": [],
   "source": [
    "def send_mail(country_element, total_cases, new_cases, total_deaths, new_deaths, active_cases, total_recovered, serious_critical):\n",
    "    server = smtplib.SMTP('smtp.gmail.com', 587)\n",
    "    server.ehlo()\n",
    "    server.starttls()\n",
    "    server.ehlo()\n",
    "    server.login('prabhu.vanam@gmail.com', 'ouzjessknlytpftt')\n",
    "    subject = 'Coronavirus stats in your country today!'\n",
    "    body = 'Today in ' + country_element + '\\\n",
    "    \\nThere is new data on coronavirus:\\\n",
    "    \\nTotal cases: ' + total_cases +'\\\n",
    "    \\nNew cases: ' + new_cases + '\\\n",
    "    \\nTotal deaths: ' + total_deaths + '\\\n",
    "    \\nNew deaths: ' + new_deaths + '\\\n",
    "    \\nActive cases: ' + active_cases + '\\\n",
    "    \\nTotal recovered: ' + total_recovered + '\\\n",
    "    \\nSerious, critical cases: ' + serious_critical  + '\\\n",
    "    \\nCheck the link: https://www.worldometers.info/coronavirus/'\n",
    "    msg = f\"Subject: {subject}\\n\\n{body}\"\n",
    "    server.sendmail(\n",
    "    'Coronavirus',\n",
    "    'email',\n",
    "    msg\n",
    "    )\n",
    "    print('Hey Email has been sent!')\n",
    "    server.quit()"
   ]
  }
 ],
 "metadata": {
  "kernelspec": {
   "display_name": "Python 3",
   "language": "python",
   "name": "python3"
  },
  "language_info": {
   "codemirror_mode": {
    "name": "ipython",
    "version": 3
   },
   "file_extension": ".py",
   "mimetype": "text/x-python",
   "name": "python",
   "nbconvert_exporter": "python",
   "pygments_lexer": "ipython3",
   "version": "3.6.8"
  }
 },
 "nbformat": 4,
 "nbformat_minor": 2
}
